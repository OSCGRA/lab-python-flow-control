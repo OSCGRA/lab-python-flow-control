{
 "cells": [
  {
   "cell_type": "markdown",
   "id": "d3bfc191-8885-42ee-b0a0-bbab867c6f9f",
   "metadata": {
    "tags": []
   },
   "source": [
    "# Lab | Flow Control"
   ]
  },
  {
   "cell_type": "markdown",
   "id": "3851fcd1-cf98-4653-9c89-e003b7ec9400",
   "metadata": {},
   "source": [
    "## Exercise: Managing Customer Orders Optimized\n",
    "\n",
    "In the last lab, you were starting an online store that sells various products. To ensure smooth operations, you developed a program that manages customer orders and inventory.\n",
    "\n",
    "You did so without using flow control. Let's go a step further and improve this code.\n",
    "\n",
    "Follow the steps below to complete the exercise:\n",
    "\n",
    "1. Look at your code from the lab data structures, and improve repeated code with loops.\n",
    "\n",
    "2. Instead of asking the user to input the name of three products that a customer wants to order, do the following:\n",
    "    \n",
    "    a. Prompt the user to enter the name of a product that a customer wants to order.\n",
    "    \n",
    "    b. Add the product name to the \"customer_orders\" set.\n",
    "    \n",
    "    c. Ask the user if they want to add another product (yes/no).\n",
    "    \n",
    "    d. Continue the loop until the user does not want to add another product.\n",
    "\n",
    "3. Instead of updating the inventory by subtracting 1 from the quantity of each product, only do it for  the products that were ordered (those in \"customer_orders\")."
   ]
  },
  {
   "cell_type": "code",
   "execution_count": 1,
   "id": "6a5cb176",
   "metadata": {},
   "outputs": [],
   "source": [
    "products = (\"t-shirt\", \"mug\", \"hat\", \"book\", \"keychain\")"
   ]
  },
  {
   "cell_type": "code",
   "execution_count": 2,
   "id": "1f5a9b7e",
   "metadata": {},
   "outputs": [],
   "source": [
    "inventory = {}"
   ]
  },
  {
   "cell_type": "markdown",
   "id": "85210f94",
   "metadata": {},
   "source": [
    "1. Look at your code from the lab data structures, and improve repeated code with loops."
   ]
  },
  {
   "cell_type": "code",
   "execution_count": 3,
   "id": "3c55d12f",
   "metadata": {},
   "outputs": [
    {
     "name": "stdout",
     "output_type": "stream",
     "text": [
      "Que cantidad de t-shirt tenemos: 10\n",
      "Que cantidad de mug tenemos: 15\n",
      "Que cantidad de hat tenemos: 26\n",
      "Que cantidad de book tenemos: 53\n",
      "Que cantidad de keychain tenemos: 12\n"
     ]
    }
   ],
   "source": [
    "for product in products:\n",
    "    inventory[product] = int(input(\"Que cantidad de \" + product + \" tenemos: \")) "
   ]
  },
  {
   "cell_type": "code",
   "execution_count": 4,
   "id": "5840f3ea",
   "metadata": {},
   "outputs": [
    {
     "name": "stdout",
     "output_type": "stream",
     "text": [
      "Producto Cantidad\n",
      "t-shirt 10\n",
      "mug 15\n",
      "hat 26\n",
      "book 53\n",
      "keychain 12\n"
     ]
    }
   ],
   "source": [
    "print(\"Producto\", \"Cantidad\")\n",
    "for key, value in inventory.items():\n",
    "    print(key, value)"
   ]
  },
  {
   "cell_type": "markdown",
   "id": "879db97b",
   "metadata": {},
   "source": [
    "2. Instead of asking the user to input the name of three products that a customer wants to order, do the following:\n",
    "    \n",
    "    a. Prompt the user to enter the name of a product that a customer wants to order.\n",
    "    \n",
    "    b. Add the product name to the \"customer_orders\" set.\n",
    "    \n",
    "    c. Ask the user if they want to add another product (yes/no).\n",
    "    \n",
    "    d. Continue the loop until the user does not want to add another product."
   ]
  },
  {
   "cell_type": "code",
   "execution_count": 7,
   "id": "78693dc5",
   "metadata": {},
   "outputs": [
    {
     "name": "stdout",
     "output_type": "stream",
     "text": [
      "Añade un producto a tu pedido: t-shirt\n",
      "Añade la cantidad: 12\n",
      "¿Quieres continuar con el pedido? (si/no): si\n",
      "Añade un producto a tu pedido: hat\n",
      "Añade la cantidad: 8\n",
      "¿Quieres continuar con el pedido? (si/no): si\n",
      "Añade un producto a tu pedido: mug\n",
      "Añade la cantidad: 4\n",
      "¿Quieres continuar con el pedido? (si/no): no\n",
      "Fin de pedido\n",
      "Productos en el pedido: {'t-shirt': '12', 'hat': '8', 'mug': '4'}\n"
     ]
    }
   ],
   "source": [
    "customer_orders = {}\n",
    "\n",
    "while True:\n",
    "    product = input(\"Añade un producto a tu pedido: \")\n",
    "    quantity=input(\"Añade la cantidad: \")\n",
    "    customer_orders.update({product:quantity})\n",
    "    \n",
    "    response = input(\"¿Quieres continuar con el pedido? (si/no): \").lower()\n",
    "    \n",
    "    if response == \"no\":\n",
    "        break\n",
    "    elif response != \"si\":\n",
    "        print(\"Por favor, responde si o no.\")\n",
    "\n",
    "print(\"Fin de pedido\")\n",
    "print(\"Productos en el pedido:\", customer_orders)"
   ]
  },
  {
   "cell_type": "markdown",
   "id": "63f38b55",
   "metadata": {},
   "source": [
    "3. Instead of updating the inventory by subtracting 1 from the quantity of each product, only do it for  the products that were ordered (those in \"customer_orders\")."
   ]
  },
  {
   "cell_type": "code",
   "execution_count": 9,
   "id": "d14fa5d1",
   "metadata": {},
   "outputs": [
    {
     "name": "stdout",
     "output_type": "stream",
     "text": [
      "Producto Cantidad\n",
      "t-shirt 8\n",
      "mug 13\n",
      "hat 24\n",
      "book 53\n",
      "keychain 12\n"
     ]
    }
   ],
   "source": [
    "for i in customer_orders:\n",
    "    if i in inventory:\n",
    "        inventory[i] -= 1\n",
    "print(\"Producto\", \"Cantidad\")\n",
    "for key, value in inventory.items():\n",
    "    print(key, value)"
   ]
  }
 ],
 "metadata": {
  "kernelspec": {
   "display_name": "Python 3 (ipykernel)",
   "language": "python",
   "name": "python3"
  },
  "language_info": {
   "codemirror_mode": {
    "name": "ipython",
    "version": 3
   },
   "file_extension": ".py",
   "mimetype": "text/x-python",
   "name": "python",
   "nbconvert_exporter": "python",
   "pygments_lexer": "ipython3",
   "version": "3.11.5"
  }
 },
 "nbformat": 4,
 "nbformat_minor": 5
}
